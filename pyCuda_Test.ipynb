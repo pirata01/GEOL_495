{
 "cells": [
  {
   "cell_type": "markdown",
   "metadata": {},
   "source": [
    "The following two sections of code are used to demonstrate the power of CUDA.<br>\n",
    "The code blocks are broken into three sections:<br>\n",
    "1. Initilize our variables and load libraries<br>\n",
    "2. Perform a repetative array multiplication without CUDA<br>\n",
    "3. Perform a repetative array multiplication with CUDA<br>\n",
    "\n",
    "A 'for' loop is used to repeat the calculation 30 million times.<br>\n",
    "\n",
    "The two arrays are of length 1,000 \n",
    "$$\n",
    "\\left(\\begin{array}{cc} \n",
    "A_{1}, & A_{2}, & \\cdots, & A_{1000}\n",
    "\\end{array}\\right)\n",
    "\\left(\\begin{array}{cc} \n",
    "A_{1}, & A_{2}, & \\cdots, & A_{1000}\n",
    "\\end{array}\\right)\n",
    "$$ \n",
    "\n",
    "### Using the following hardware:<br>\n",
    "1. CPU = Intel(R) Core(TM) i5-7600K @ 3.80 GHz (16G RAM)\n",
    "2. GPU = NVIDEA GeForce GTS 1070 (8G RAM)<br>\n",
    "_*Demo for Dave H._"
   ]
  },
  {
   "cell_type": "markdown",
   "metadata": {},
   "source": [
    "# Initilize our variables and load libraries."
   ]
  },
  {
   "cell_type": "code",
   "execution_count": 1,
   "metadata": {},
   "outputs": [],
   "source": [
    "import pycuda.autoinit\n",
    "import pycuda.driver as drv\n",
    "import numpy\n",
    "\n",
    "from timeit import default_timer as timer\n",
    "\n",
    "from pycuda.compiler import SourceModule\n",
    "\n",
    "arrayA = numpy.random.randn(1000).astype(numpy.float32)\n",
    "arrayB = numpy.random.randn(1000).astype(numpy.float32)\n",
    "arrayC = numpy.zeros_like(arrayA)"
   ]
  },
  {
   "cell_type": "markdown",
   "metadata": {},
   "source": [
    "## The following is the CUDA code 'C' that gets loaded into the GPU."
   ]
  },
  {
   "cell_type": "code",
   "execution_count": 2,
   "metadata": {},
   "outputs": [],
   "source": [
    "mod = SourceModule(\"\"\"\n",
    "__global__ void multiply_them(float *arrayC, float *arrayA, float *arrayB)\n",
    "{\n",
    "    #include <stdint.h> \n",
    "    \n",
    "    const int i = threadIdx.x;\n",
    "    for( uint64_t counter = 0; counter < 30000000; counter++)\n",
    "    {\n",
    "        arrayC[i] = arrayA[i] * arrayB[i];\n",
    "    }    \n",
    "}\n",
    "\"\"\")\n",
    "\n",
    "multiply_them = mod.get_function(\"multiply_them\")"
   ]
  },
  {
   "cell_type": "markdown",
   "metadata": {},
   "source": [
    "## In CUDA (GPU)\n",
    "1. Start the timer<br>\n",
    "2. Call the CUDA function to perform the calculations<br>\n",
    "3. Print out the execution time"
   ]
  },
  {
   "cell_type": "code",
   "execution_count": 3,
   "metadata": {},
   "outputs": [
    {
     "name": "stdout",
     "output_type": "stream",
     "text": [
      "It took 5.0169 seconds to execute.\n"
     ]
    }
   ],
   "source": [
    "start = timer()\n",
    "multiply_them(drv.Out(arrayC), drv.In(arrayA), drv.In(arrayB), block=(1000,1,1), grid=(1,1))\n",
    "duration = timer() - start\n",
    "print(\"It took {0:.4f} seconds to execute.\".format(duration))"
   ]
  },
  {
   "cell_type": "markdown",
   "metadata": {},
   "source": [
    "## In RAM (CPU)\n",
    "1. Start the timer<br>\n",
    "2. Call the python function to perform the calculations<br>\n",
    "3. Print out the execution time"
   ]
  },
  {
   "cell_type": "code",
   "execution_count": 4,
   "metadata": {},
   "outputs": [
    {
     "name": "stdout",
     "output_type": "stream",
     "text": [
      "It took 21.5464 seconds to execute.\n"
     ]
    }
   ],
   "source": [
    "start = timer()\n",
    "for i in range(0,30000000):\n",
    "    arrayC = arrayA * arrayB\n",
    "duration = timer() - start\n",
    "print(\"It took {0:.4f} seconds to execute.\".format(duration))"
   ]
  }
 ],
 "metadata": {
  "kernelspec": {
   "display_name": "Python 3",
   "language": "python",
   "name": "python3"
  },
  "language_info": {
   "codemirror_mode": {
    "name": "ipython",
    "version": 3
   },
   "file_extension": ".py",
   "mimetype": "text/x-python",
   "name": "python",
   "nbconvert_exporter": "python",
   "pygments_lexer": "ipython3",
   "version": "3.6.4"
  }
 },
 "nbformat": 4,
 "nbformat_minor": 2
}
