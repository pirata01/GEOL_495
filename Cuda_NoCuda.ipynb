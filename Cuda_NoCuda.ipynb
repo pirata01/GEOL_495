{
 "cells": [
  {
   "cell_type": "markdown",
   "metadata": {},
   "source": [
    "# Test Cuda - No Cuda\n",
    "This code is broken down into two section\n",
    "1. Test without Cuda\n",
    "2. Test with Cuda"
   ]
  },
  {
   "cell_type": "markdown",
   "metadata": {},
   "source": [
    "First we load the libraries"
   ]
  },
  {
   "cell_type": "code",
   "execution_count": 1,
   "metadata": {},
   "outputs": [],
   "source": [
    "import numpy as np\n",
    "from timeit import default_timer as timer"
   ]
  },
  {
   "cell_type": "markdown",
   "metadata": {},
   "source": [
    "Here we define our power function which has a loop.<br>\n",
    "We also declare our variables."
   ]
  },
  {
   "cell_type": "code",
   "execution_count": 2,
   "metadata": {},
   "outputs": [],
   "source": [
    "def pow(a, b, c):\n",
    "    for i in range(a.size):\n",
    "         c[i] = a[i] ** b[i]\n",
    "         \n",
    "vec_size = 100000000\n",
    "\n",
    "a = b = np.array(np.random.sample(vec_size), dtype=np.float32)\n",
    "c = np.zeros(vec_size, dtype=np.float32)"
   ]
  },
  {
   "cell_type": "markdown",
   "metadata": {},
   "source": [
    "We now run the core of the program,<br>\n",
    "ensuring the timers are started and stopped. "
   ]
  },
  {
   "cell_type": "code",
   "execution_count": 3,
   "metadata": {},
   "outputs": [],
   "source": [
    "start = timer()\n",
    "pow(a, b, c)\n",
    "duration = timer() - start"
   ]
  },
  {
   "cell_type": "markdown",
   "metadata": {},
   "source": [
    "We now DISPLAY the time to execute the code with OE."
   ]
  },
  {
   "cell_type": "code",
   "execution_count": 4,
   "metadata": {},
   "outputs": [
    {
     "name": "stdout",
     "output_type": "stream",
     "text": [
      "It took 31.09 seconds to run in the CPU\n",
      "Proof the calculation worked, inspect first and last 5 cells in block...\n",
      "[0.69,0.80,0.82,0.87,0.96...]\n",
      "...0.88,0.70,0.70,0.74,0.90]\n"
     ]
    }
   ],
   "source": [
    "print(\"It took {0:.2f} seconds to run in the CPU\".format(duration))\n",
    "print(\"Proof the calculation worked, inspect first and last 5 cells in block...\")\n",
    "\n",
    "print(\"[{0:.2f},{1:.2f},{2:.2f},{3:.2f},{4:.2f}...]\".format(c[0], c[1], c[2], c[3], c[4],))\n",
    "print(\"...{0:.2f},{1:.2f},{2:.2f},{3:.2f},{4:.2f}]\".format(c[vec_size-5], c[vec_size-4], c[vec_size-3], c[vec_size-2], c[vec_size-1]))"
   ]
  }
 ],
 "metadata": {
  "kernelspec": {
   "display_name": "Python 3",
   "language": "python",
   "name": "python3"
  },
  "language_info": {
   "codemirror_mode": {
    "name": "ipython",
    "version": 3
   },
   "file_extension": ".py",
   "mimetype": "text/x-python",
   "name": "python",
   "nbconvert_exporter": "python",
   "pygments_lexer": "ipython3",
   "version": "3.6.4"
  }
 },
 "nbformat": 4,
 "nbformat_minor": 2
}
